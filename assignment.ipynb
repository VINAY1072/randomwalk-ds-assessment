{
 "cells": [
  {
   "cell_type": "markdown",
   "metadata": {},
   "source": [
    "*Random Walk’s Data Science Assessment* -CS20B1072"
   ]
  },
  {
   "cell_type": "code",
   "execution_count": 1,
   "metadata": {},
   "outputs": [],
   "source": [
    "import pandas as pd\n",
    "import matplotlib.pyplot as plt"
   ]
  },
  {
   "cell_type": "code",
   "execution_count": 2,
   "metadata": {},
   "outputs": [],
   "source": [
    "file_path = 'books.csv'\n",
    "\n",
    "# Read the CSV file into a Pandas DataFrame\n",
    "df = pd.read_csv(file_path)"
   ]
  },
  {
   "cell_type": "markdown",
   "metadata": {},
   "source": [
    "# Q1 SOLUTION"
   ]
  },
  {
   "cell_type": "code",
   "execution_count": 3,
   "metadata": {},
   "outputs": [
    {
     "name": "stdout",
     "output_type": "stream",
     "text": [
      "Number of rows:-  399\n",
      "Number of coloumns:-  24\n"
     ]
    }
   ],
   "source": [
    "num_rows, num_columns = df.shape\n",
    "\n",
    "# Print the result\n",
    "print(f\"Number of rows:-  {num_rows}\")\n",
    "print(f\"Number of coloumns:-  {num_columns}\")"
   ]
  },
  {
   "cell_type": "markdown",
   "metadata": {},
   "source": [
    "# Q2 SOLUTION"
   ]
  },
  {
   "cell_type": "code",
   "execution_count": 4,
   "metadata": {},
   "outputs": [
    {
     "name": "stdout",
     "output_type": "stream",
     "text": [
      "Number of books without an original title:- 36\n"
     ]
    }
   ],
   "source": [
    "# Count the number of books without an original title\n",
    "books_without_original_title = df['original_title'].isna().sum()\n",
    "\n",
    "# Print the result\n",
    "print(f\"Number of books without an original title:- {books_without_original_title}\")"
   ]
  },
  {
   "cell_type": "markdown",
   "metadata": {},
   "source": [
    "# Q3 SOLUTION"
   ]
  },
  {
   "cell_type": "code",
   "execution_count": 5,
   "metadata": {},
   "outputs": [
    {
     "name": "stdout",
     "output_type": "stream",
     "text": [
      "Number of unique books based on 'book_id' after removing null values in the 'original_title' column:- 363\n"
     ]
    }
   ],
   "source": [
    "# Drop rows with null values in the 'original_title' column\n",
    "df_cleaned = df.dropna(subset=['original_title'])\n",
    "\n",
    "# Count the number of unique books based on 'book_id'\n",
    "unique_books_count = df_cleaned['book_id'].nunique()\n",
    "\n",
    "# Print the result\n",
    "print(f\"Number of unique books based on 'book_id' after removing null values in the 'original_title' column:- {unique_books_count}\")"
   ]
  },
  {
   "cell_type": "markdown",
   "metadata": {},
   "source": [
    "# Q4 SOLUTION"
   ]
  },
  {
   "cell_type": "code",
   "execution_count": 6,
   "metadata": {},
   "outputs": [
    {
     "name": "stdout",
     "output_type": "stream",
     "text": [
      "The average rating of all books in the dataset is:- 3.98\n"
     ]
    }
   ],
   "source": [
    "# Calculate the average rating\n",
    "average_rating = df['average_rating'].mean()\n",
    "\n",
    "# Print the result\n",
    "print(f\"The average rating of all books in the dataset is:- {average_rating:.2f}\")"
   ]
  },
  {
   "cell_type": "markdown",
   "metadata": {},
   "source": [
    "# Q5 SOLUTION"
   ]
  },
  {
   "cell_type": "code",
   "execution_count": 7,
   "metadata": {},
   "outputs": [
    {
     "name": "stdout",
     "output_type": "stream",
     "text": [
      "The number of books published in the year 2000 is:- 8\n"
     ]
    }
   ],
   "source": [
    "# Filter the DataFrame for books published in the year 2000\n",
    "books_2000 = df[df['original_publication_year'] == 2000]\n",
    "\n",
    "# Get the count of books published in 2000\n",
    "books_2000_count = books_2000.shape[0]\n",
    "\n",
    "# Print the result\n",
    "print(f\"The number of books published in the year 2000 is:- {books_2000_count}\")"
   ]
  },
  {
   "cell_type": "markdown",
   "metadata": {},
   "source": [
    "# Q6 SOLUTION"
   ]
  },
  {
   "cell_type": "code",
   "execution_count": 8,
   "metadata": {},
   "outputs": [
    {
     "name": "stdout",
     "output_type": "stream",
     "text": [
      "The book with the maximum number of ratings is:- The Diary of a Young Girl\n"
     ]
    }
   ],
   "source": [
    "# Find the book with the maximum number of ratings\n",
    "max_ratings_book = df.loc[df['work_ratings_count'].idxmax()]\n",
    "\n",
    "# Get the title of the book with the maximum ratings\n",
    "max_ratings_title = max_ratings_book['title']\n",
    "\n",
    "# Print the result\n",
    "print(f\"The book with the maximum number of ratings is:- {max_ratings_title}\")"
   ]
  },
  {
   "cell_type": "markdown",
   "metadata": {},
   "source": [
    "# Q7 SOLUTION"
   ]
  },
  {
   "cell_type": "code",
   "execution_count": 9,
   "metadata": {},
   "outputs": [
    {
     "data": {
      "image/png": "[encoded data removed]",
      "text/plain": [
       "<Figure size 640x480 with 1 Axes>"
      ]
     },
     "metadata": {},
     "output_type": "display_data"
    }
   ],
   "source": [
    "bins = [0, 0.5, 1.0, 1.5, 2.0, 2.5, 3.0, 3.5, 4.0, 4.5, 5.0]\n",
    "df['rating_bucket'] = pd.cut(df['average_rating'], bins, right=False)\n",
    "rating_counts = df['rating_bucket'].value_counts().sort_index()\n",
    "\n",
    "# Plotting the bar graph\n",
    "rating_counts.plot(kind='bar', edgecolor='black')\n",
    "plt.xlabel('Rating Bucket')\n",
    "plt.ylabel('Number of Books')\n",
    "plt.title('Number of Books in Each Rating Bucket')\n",
    "plt.show()"
   ]
  }
 ],
 "metadata": {
  "kernelspec": {
   "display_name": "Python 3.11.4 64-bit",
   "language": "python",
   "name": "python3"
  },
  "language_info": {
   "codemirror_mode": {
    "name": "ipython",
    "version": 3
   },
   "file_extension": ".py",
   "mimetype": "text/x-python",
   "name": "python",
   "nbconvert_exporter": "python",
   "pygments_lexer": "ipython3",
   "version": "3.11.4"
  },
  "orig_nbformat": 4,
  "vscode": {
   "interpreter": {
    "hash": "5238573367df39f7286bb46f9ff5f08f63a01a80960060ce41e3c79b190280fa"
   }
  }
 },
 "nbformat": 4,
 "nbformat_minor": 2
}
